{
 "cells": [
  {
   "cell_type": "markdown",
   "metadata": {},
   "source": [
    "# Learning By Building Speech Emotions Recognition"
   ]
  },
  {
   "cell_type": "markdown",
   "metadata": {},
   "source": [
    "Hello friends, thank you for taking part in the internal training session that I organized. I hope you enjoy it. To hone and deepen your knowledge about the material that I have presented, you can try to do LBB below.There are 2 research datasets commonly used for speech emotion recognition.\n",
    "\n",
    "1. [Crowd-sourced Emotional Mutimodal Actors Dataset(CREMA-D)](https://github.com/CheyneyComputerScience/CREMA-D)\n",
    "2. [Toronto Emotional Speech Set Data(TESS)](https://tspace.library.utoronto.ca/handle/1807/24487)\n",
    "3. If you feel challenged, the CNN model we have created previously has an overfit where this condition is not good enough. Try to improve the model so that it produces good accuracy and does not overfit or underfit.\n",
    "\n",
    "Based on what we have learned previously (how we read data, extract sound features, create classification models) please choose one of the datasets above and try to do speech emotion recognition by building a machine learning model that is good enough to predict each emotion. You can use whatever machine learning algorithm you know to do this task. Feel free to ask me if you are having a hard time working on it. Thank you and see you at the other internal training which was more exciting than we have done :)"
   ]
  }
 ],
 "metadata": {
  "kernelspec": {
   "display_name": "Tensorflow_GPU",
   "language": "python",
   "name": "tensorflow_gpu"
  },
  "language_info": {
   "codemirror_mode": {
    "name": "ipython",
    "version": 3
   },
   "file_extension": ".py",
   "mimetype": "text/x-python",
   "name": "python",
   "nbconvert_exporter": "python",
   "pygments_lexer": "ipython3",
   "version": "3.7.3"
  },
  "toc": {
   "base_numbering": 1,
   "nav_menu": {},
   "number_sections": true,
   "sideBar": true,
   "skip_h1_title": false,
   "title_cell": "Table of Contents",
   "title_sidebar": "Contents",
   "toc_cell": false,
   "toc_position": {},
   "toc_section_display": true,
   "toc_window_display": true
  }
 },
 "nbformat": 4,
 "nbformat_minor": 2
}
